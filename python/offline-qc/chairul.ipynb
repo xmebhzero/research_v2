{
 "cells": [
  {
   "cell_type": "code",
   "execution_count": null,
   "metadata": {},
   "outputs": [],
   "source": [
    "# The code below was written by Chairul Rozikin @ Populix"
   ]
  },
  {
   "cell_type": "code",
   "execution_count": null,
   "metadata": {},
   "outputs": [],
   "source": [
    "import os\n",
    "from datetime import datetime\n",
    "\n",
    "import boto3\n",
    "import polars as pl\n",
    "from dotenv import load_dotenv\n",
    "# import pandas as pd (alternative for Polars)\n"
   ]
  },
  {
   "cell_type": "code",
   "execution_count": null,
   "metadata": {},
   "outputs": [],
   "source": [
    "load_dotenv()\n",
    "aws_region = os.getenv(\"AWS_REGION\")\n",
    "access_key = os.getenv(\"COGNITO_ACCESS_KEY\")\n",
    "secret_key = os.getenv(\"COGNITO_SECRET_KEY\")"
   ]
  },
  {
   "cell_type": "code",
   "execution_count": null,
   "metadata": {},
   "outputs": [],
   "source": [
    "# Boto3 docs can be checked in here: https://boto3.amazonaws.com/v1/documentation/api/latest/reference/services/pinpoint/client/phone_number_validate.html\n",
    "\n",
    "pinpoint = boto3.client(\n",
    "    'pinpoint',\n",
    "    region_name=aws_region,\n",
    "    aws_access_key_id=access_key,\n",
    "    aws_secret_access_key=secret_key,\n",
    "    )"
   ]
  },
  {
   "cell_type": "code",
   "execution_count": null,
   "metadata": {},
   "outputs": [],
   "source": [
    "def format_phone_number(original_number):\n",
    "  if original_number.startswith(\"0\"):\n",
    "    return \"+62\" + original_number[1:]\n",
    "  else:\n",
    "    return \"+62\" + original_number\n",
    "\n",
    "\n",
    "def validate_phone_number(formatted_number):\n",
    "    # General docs of Amazon Pinpoint Validation Phone Number can be checked in here: https://docs.aws.amazon.com/pinpoint/latest/developerguide/validate-phone-numbers.html\n",
    "    # API Response and Status can be checked in here: https://docs.aws.amazon.com/pinpoint/latest/apireference/phone-number-validate.html\n",
    "    response = pinpoint.phone_number_validate(\n",
    "        NumberValidateRequest={\n",
    "            'IsoCountryCode': 'ID',\n",
    "            'PhoneNumber': f'{formatted_number}'\n",
    "        }\n",
    "    )\n",
    "    status = response['NumberValidateResponse']['PhoneType']\n",
    "    if status == \"INVALID\":\n",
    "      return \"INVALID\"\n",
    "    else:\n",
    "      return \"VALID\"\n",
    "\n",
    "\n",
    "def process_phone_number(number):\n",
    "  formatted_number = format_phone_number(str(number))\n",
    "  validate_phone_number(formatted_number)\n",
    "  return formatted_number\n",
    "\n",
    "\n",
    "def check_time_for_anomaly(input_time):\n",
    "    if isinstance(input_time, str):\n",
    "        try:\n",
    "            input_time = datetime.strptime(input_time, \"%Y-%m-%d %H:%M:%S\")\n",
    "        except ValueError:\n",
    "            try:\n",
    "                input_time = datetime.strptime(input_time, \"%I:%M %p\")\n",
    "            except ValueError:\n",
    "                raise ValueError(\"The input string must match a valid datetime format.\")\n",
    "    \n",
    "    if not isinstance(input_time, datetime):\n",
    "        raise ValueError(\"The input must be a valid datetime object or a string representing a datetime.\")\n",
    "    \n",
    "    hour = input_time.hour\n",
    "\n",
    "    if 23 <= hour < 24 or 0 <= hour < 5:\n",
    "    # if 1 <= hour < 5:\n",
    "        return \"Anomaly\"\n",
    "    else:\n",
    "        return \"Normal\""
   ]
  },
  {
   "cell_type": "code",
   "execution_count": null,
   "metadata": {},
   "outputs": [],
   "source": [
    "# Alternative if using Pandas\n",
    "# df = pd.read_csv(\"sample_qc_offline.csv\")\n",
    "# df['recruitment_date'] = pd.to_datetime(df['recruitment_date'], format='%m/%d/%y %I:%M %p')\n",
    "# df['phone_number'] = df['phone_number'].astype(str)\n",
    "# df['formatted_phone_number'] = df['phone_number'].apply(format_phone_number)\n",
    "# df['status'] = df['formatted_phone_number'].apply(validate_phone_number)\n",
    "# df"
   ]
  },
  {
   "cell_type": "code",
   "execution_count": null,
   "metadata": {},
   "outputs": [],
   "source": [
    "df = pl.read_csv(\"sample_qc_offline.csv\")\n",
    "processed_df = df.with_columns(pl.col(\"recruitment_date\").str.to_datetime(\"%d/%m/%y %I:%M %p\"),\n",
    "                         pl.col(\"phone_number\").cast(pl.String))\n",
    "processed_df = processed_df.with_columns(pl.col(\"phone_number\").map_elements(format_phone_number, return_dtype=pl.String))\n",
    "processed_df = processed_df.with_columns(pl.col(\"phone_number\").map_elements(validate_phone_number, return_dtype=pl.String).alias(\"validation_status\"))\n",
    "processed_df = processed_df.with_columns(pl.col(\"recruitment_date\").map_elements(check_time_for_anomaly, return_dtype=pl.String).alias(\"time_status\"))\n",
    "processed_df"
   ]
  },
  {
   "cell_type": "code",
   "execution_count": null,
   "metadata": {},
   "outputs": [],
   "source": [
    "# processed_df = processed_df.with_columns(pl.col(\"phone_number\").str.slice(-5).alias(\"last_5_digits\"))\n",
    "processed_df = processed_df.with_columns(pl.col(\"phone_number\").str.head(-5).alias(\"prefix\"))\n",
    "processed_df = processed_df.with_columns(pl.col(\"prefix\").is_duplicated().alias(\"sequence_number\"))\n",
    "\n",
    "# Drop temporary columns\n",
    "processed_df = processed_df.drop([\"prefix\"])\n",
    "\n",
    "processed_df"
   ]
  }
 ],
 "metadata": {
  "kernelspec": {
   "display_name": "workshop_2nd",
   "language": "python",
   "name": "python3"
  },
  "language_info": {
   "name": "python",
   "version": "3.12.5"
  }
 },
 "nbformat": 4,
 "nbformat_minor": 2
}
