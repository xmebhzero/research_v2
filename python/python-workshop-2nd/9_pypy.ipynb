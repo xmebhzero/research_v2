{
 "cells": [
  {
   "cell_type": "markdown",
   "metadata": {},
   "source": [
    "PyPy’s secret is just-in-time (JIT) compilation, which compiles the Python program to a machine\n",
    "language, such as Cython, but does it while the program is running rather than once on the developer’s\n",
    "machine, as with ahead-of-time (AOT) compilation. For a long-running process, a JIT compiler can\n",
    "try different strategies to compile the same code and find the ones that work best in the program’s\n",
    "environment. The program will quickly get faster until the best version the compiler can find is running."
   ]
  },
  {
   "cell_type": "markdown",
   "metadata": {},
   "source": [
    "You can setup pypy using `pyenv` like below\n",
    "\n",
    "1. Check available pypy version\n",
    "```bash\n",
    "pyenv install --list | grep pypy\n",
    "```\n",
    "\n",
    "2. Set pypy as virtual environments\n",
    "```bash\n",
    "pyenv virtualenv pypy3.10-7.3.12 research-pypy\n",
    "```\n",
    "\n",
    "3. Activate pypy virtual environment\n",
    "```bash\n",
    "pyenv activate research-pypy\n",
    "```\n",
    "\n",
    "4. Try to execute file 9_erastosthenes.py to see how much faster pypy is compared to python3\n",
    "```bash\n",
    "pypy3 9_erastosthenes.py\n",
    "```"
   ]
  }
 ],
 "metadata": {
  "language_info": {
   "name": "python"
  }
 },
 "nbformat": 4,
 "nbformat_minor": 2
}
