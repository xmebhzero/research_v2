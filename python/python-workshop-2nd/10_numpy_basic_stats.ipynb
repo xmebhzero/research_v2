{
 "cells": [
  {
   "cell_type": "code",
   "execution_count": 30,
   "metadata": {},
   "outputs": [
    {
     "name": "stdout",
     "output_type": "stream",
     "text": [
      "CPU times: user 4 μs, sys: 0 ns, total: 4 μs\n",
      "Wall time: 7.15 μs\n"
     ]
    }
   ],
   "source": [
    "import numpy as np"
   ]
  },
  {
   "cell_type": "code",
   "execution_count": 8,
   "metadata": {},
   "outputs": [
    {
     "name": "stdout",
     "output_type": "stream",
     "text": [
      "Type of test_scores is <class 'list'>\n",
      "Type of scores is <class 'numpy.ndarray'>\n"
     ]
    }
   ],
   "source": [
    "test_scores = [70, 65, 95, 88]\n",
    "print(f\"Type of test_scores is {type(test_scores)}\")\n",
    "\n",
    "# Change the type of test_scores into numpy array\n",
    "scores = np.array(test_scores)\n",
    "print(f\"Type of scores is {type(scores)}\")"
   ]
  },
  {
   "cell_type": "code",
   "execution_count": 9,
   "metadata": {},
   "outputs": [
    {
     "name": "stdout",
     "output_type": "stream",
     "text": [
      "The mean of scores = 79.5\n"
     ]
    }
   ],
   "source": [
    "# mean = sum of all entries / number of entries\n",
    "scores_mean = scores.mean()\n",
    "print(f\"The mean of scores = {scores_mean}\")"
   ]
  },
  {
   "cell_type": "code",
   "execution_count": 10,
   "metadata": {},
   "outputs": [
    {
     "name": "stdout",
     "output_type": "stream",
     "text": [
      "The median income is 88000.0\n"
     ]
    }
   ],
   "source": [
    "# median = mid value of sorted entries\n",
    "# if the number of entries is even, the median is the average of the two middle data points in the list.\n",
    "income = np.array([75000, 55000, 88000, 125000, 64000, 97000, 12000000])\n",
    "income_median = np.median(income)\n",
    "print(f\"The median income is {income_median}\")"
   ]
  },
  {
   "cell_type": "code",
   "execution_count": 11,
   "metadata": {},
   "outputs": [
    {
     "name": "stdout",
     "output_type": "stream",
     "text": [
      "The standard deviation is 4169786.007331644\n"
     ]
    }
   ],
   "source": [
    "'''\n",
    "  Something about the 12.000.000 income does not sit right.\n",
    "  It's nowhere near anyone else's income.\n",
    "  In statistics, there is an official terminology for this: you say that the data is skewed by an outlier of 12.000.000\n",
    "  In particular, the data is right-skewed since 12,000,000 is far to the right of every other data point.\n",
    "\n",
    "  if the mean greatly exceeds the median, this is clear evidence of right-skewed data.\n",
    "  Similarly, if the mean is much less than the median, this is clear evidence of left-skewed data.\n",
    "'''\n",
    "\n",
    "# The standard deviation is a precise statistical measure of how spread out data points are\n",
    "income_standard_deviation = income.std()\n",
    "print(f\"The standard deviation is {income_standard_deviation}\")"
   ]
  },
  {
   "cell_type": "code",
   "execution_count": 12,
   "metadata": {},
   "outputs": [
    {
     "name": "stdout",
     "output_type": "stream",
     "text": [
      "The maximum income is 12000000, the minimum income is 55000, and the total sum of income is 12504000\n"
     ]
    }
   ],
   "source": [
    "income_max = income.max()\n",
    "income_min = income.min()\n",
    "income_sum = income.sum()\n",
    "\n",
    "print(f\"The maximum income is {income_max}, the minimum income is {income_min}, and the total sum of income is {income_sum}\")"
   ]
  }
 ],
 "metadata": {
  "kernelspec": {
   "display_name": "workshop_2nd",
   "language": "python",
   "name": "python3"
  },
  "language_info": {
   "codemirror_mode": {
    "name": "ipython",
    "version": 3
   },
   "file_extension": ".py",
   "mimetype": "text/x-python",
   "name": "python",
   "nbconvert_exporter": "python",
   "pygments_lexer": "ipython3",
   "version": "3.12.5"
  }
 },
 "nbformat": 4,
 "nbformat_minor": 2
}
