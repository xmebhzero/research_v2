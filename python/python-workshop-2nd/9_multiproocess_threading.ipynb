{
 "cells": [
  {
   "cell_type": "markdown",
   "metadata": {},
   "source": [
    "Whereas multiprocessing and execnet create a new Python process to run your asynchronous\n",
    "code, threading simply creates a new thread within the current process.\n",
    "Therefore, it uses fewer\n",
    "operating resources than other alternatives. Your new thread shares all its memory, including global\n",
    "variables, with the creating thread. The two threads are not truly concurrent, because the GIL means\n",
    "only one Python instruction can be running at once across all threads in a Python process.\n",
    "Finally, you cannot terminate a thread, so unless you plan to exit your whole Python process, you\n",
    "must provide the thread function with a way to exit."
   ]
  },
  {
   "cell_type": "code",
   "execution_count": 1,
   "metadata": {},
   "outputs": [
    {
     "name": "stdout",
     "output_type": "stream",
     "text": [
      "0 squared is 0\n",
      "1 squared is 1\n",
      "2 squared is 4\n",
      "3 squared is 9\n",
      "4 squared is 16\n",
      "5 squared is 25\n",
      "6 squared is 36\n",
      "7 squared is 49\n",
      "8 squared is 64\n",
      "9 squared is 81\n"
     ]
    }
   ],
   "source": [
    "import threading\n",
    "import queue\n",
    "\n",
    "# Create two new queues to handle the communication between our processes\n",
    "in_queue = queue.Queue()\n",
    "out_queue = queue.Queue()\n",
    "\n",
    "# Create the function that will watch the queue for new numbers\n",
    "def square_threading():\n",
    "  while True:\n",
    "    n = in_queue.get()\n",
    "    # terminate the thread by passing STOP into the in_queue object\n",
    "    if n == 'STOP':\n",
    "      return\n",
    "    n_squared = n**2\n",
    "    out_queue.put(n_squared)\n",
    "\n",
    "# start a new thread\n",
    "thread = threading.Thread(target=square_threading)\n",
    "thread.start()\n",
    "\n",
    "for i in range(10):\n",
    "  in_queue.put(i)\n",
    "  i_squared = out_queue.get()\n",
    "  print(f\"{i} squared is {i_squared}\")\n",
    "\n",
    "in_queue.put('STOP')\n",
    "\n",
    "thread.join()"
   ]
  }
 ],
 "metadata": {
  "kernelspec": {
   "display_name": "workshop_2nd",
   "language": "python",
   "name": "python3"
  },
  "language_info": {
   "codemirror_mode": {
    "name": "ipython",
    "version": 3
   },
   "file_extension": ".py",
   "mimetype": "text/x-python",
   "name": "python",
   "nbconvert_exporter": "python",
   "pygments_lexer": "ipython3",
   "version": "3.12.5"
  }
 },
 "nbformat": 4,
 "nbformat_minor": 2
}
