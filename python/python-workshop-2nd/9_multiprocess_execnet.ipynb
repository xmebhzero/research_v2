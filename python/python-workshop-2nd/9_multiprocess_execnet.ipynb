{
 "cells": [
  {
   "cell_type": "code",
   "execution_count": 1,
   "metadata": {},
   "outputs": [
    {
     "name": "stdout",
     "output_type": "stream",
     "text": [
      "0 squared is 0\n",
      "1 squared is 1\n",
      "2 squared is 4\n",
      "3 squared is 9\n",
      "4 squared is 16\n",
      "5 squared is 25\n",
      "6 squared is 36\n",
      "7 squared is 49\n",
      "8 squared is 64\n",
      "9 squared is 81\n"
     ]
    }
   ],
   "source": [
    "#  execnet exposes an asynchronous communication channel between the parent and child Python scripts, so the parent\n",
    "#  can send data that the child works on and get on with its own thing until it’s ready to receive the result.\n",
    "#  If the parent is ready before the child is finished, then the parent waits.\n",
    "\n",
    "import execnet\n",
    "\n",
    "# square() function will receive number from parent\n",
    "def square(channel):\n",
    "  # Make sure we only process the data if there is an open channel between parent and child\n",
    "  while not channel.isclosed():\n",
    "    number = channel.receive()\n",
    "    number_squared = number**2\n",
    "    channel.send(number_squared)\n",
    "\n",
    "# A gateway channel manages the communication between the parent and child Python processes\n",
    "gateway = execnet.makegateway()\n",
    "# The channel is used to actually send and receive data between the processes\n",
    "channel = gateway.remote_exec(square)\n",
    "\n",
    "for i in range(10):\n",
    "  channel.send(i)\n",
    "  i_squared = channel.receive()\n",
    "  print(f\"{i} squared is {i_squared}\")\n",
    "\n",
    "# close the gateway channel to cause it to quit\n",
    "gateway.exit()"
   ]
  }
 ],
 "metadata": {
  "kernelspec": {
   "display_name": "workshop_2nd",
   "language": "python",
   "name": "python3"
  },
  "language_info": {
   "codemirror_mode": {
    "name": "ipython",
    "version": 3
   },
   "file_extension": ".py",
   "mimetype": "text/x-python",
   "name": "python",
   "nbconvert_exporter": "python",
   "pygments_lexer": "ipython3",
   "version": "3.12.5"
  }
 },
 "nbformat": 4,
 "nbformat_minor": 2
}
