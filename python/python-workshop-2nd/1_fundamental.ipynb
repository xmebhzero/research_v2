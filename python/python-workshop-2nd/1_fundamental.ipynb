{
 "cells": [
  {
   "cell_type": "code",
   "execution_count": 1,
   "id": "76e5b3a2-12bb-494f-b435-52b7271f2dba",
   "metadata": {},
   "outputs": [
    {
     "data": {
      "text/plain": [
       "7"
      ]
     },
     "execution_count": 1,
     "metadata": {},
     "output_type": "execute_result"
    }
   ],
   "source": [
    "5 + 2"
   ]
  },
  {
   "cell_type": "code",
   "execution_count": 2,
   "id": "c92af34d-761e-4b4c-be08-ada9f38d8bfa",
   "metadata": {},
   "outputs": [
    {
     "data": {
      "text/plain": [
       "-1"
      ]
     },
     "execution_count": 2,
     "metadata": {},
     "output_type": "execute_result"
    }
   ],
   "source": [
    "5 + 2 * -3"
   ]
  },
  {
   "cell_type": "code",
   "execution_count": 17,
   "id": "81de5ce4-295f-472c-b8aa-0d3112b07914",
   "metadata": {},
   "outputs": [
    {
     "data": {
      "text/plain": [
       "float"
      ]
     },
     "execution_count": 17,
     "metadata": {},
     "output_type": "execute_result"
    }
   ],
   "source": [
    "# Determine the type of a variable\n",
    "ini_float = 6.0\n",
    "type(ini_float)"
   ]
  },
  {
   "cell_type": "code",
   "execution_count": 6,
   "id": "425777e9-83c9-43e4-b6da-11e638ca251c",
   "metadata": {},
   "outputs": [
    {
     "data": {
      "text/plain": [
       "7"
      ]
     },
     "execution_count": 6,
     "metadata": {},
     "output_type": "execute_result"
    }
   ],
   "source": [
    "# Change float into int\n",
    "int(7.999999999)"
   ]
  },
  {
   "cell_type": "code",
   "execution_count": 7,
   "id": "0fd40e73-f4ef-4215-aa4f-0d8221aeee5a",
   "metadata": {},
   "outputs": [
    {
     "data": {
      "text/plain": [
       "6.0"
      ]
     },
     "execution_count": 7,
     "metadata": {},
     "output_type": "execute_result"
    }
   ],
   "source": [
    "# Change int into float\n",
    "float(6)"
   ]
  },
  {
   "cell_type": "code",
   "execution_count": 8,
   "id": "4a97f755-14a4-43b7-8c55-07d160c58df1",
   "metadata": {},
   "outputs": [
    {
     "name": "stdout",
     "output_type": "stream",
     "text": [
      "['False', 'None', 'True', 'and', 'as', 'assert', 'async', 'await', 'break', 'class', 'continue', 'def', 'del', 'elif', 'else', 'except', 'finally', 'for', 'from', 'global', 'if', 'import', 'in', 'is', 'lambda', 'nonlocal', 'not', 'or', 'pass', 'raise', 'return', 'try', 'while', 'with', 'yield']\n"
     ]
    }
   ],
   "source": [
    "import keyword\n",
    "print(keyword.kwlist)"
   ]
  },
  {
   "cell_type": "code",
   "execution_count": 9,
   "id": "1af8334d-9bc8-4897-b133-71cca933e3e1",
   "metadata": {},
   "outputs": [
    {
     "data": {
      "text/plain": [
       "6"
      ]
     },
     "execution_count": 9,
     "metadata": {},
     "output_type": "execute_result"
    }
   ],
   "source": [
    "x = 5\n",
    "y = 2\n",
    "x + x - y ** 2"
   ]
  },
  {
   "cell_type": "code",
   "execution_count": 13,
   "id": "bf0ea9fa-9c2c-405e-8ee8-994e6b45ff01",
   "metadata": {},
   "outputs": [],
   "source": [
    "# Multiline\n",
    "kalimat = \"\"\"\n",
    "This document will explore why comments are particularly\n",
    "   useful when writing and reading code.\n",
    "\"\"\""
   ]
  },
  {
   "cell_type": "code",
   "execution_count": 15,
   "id": "42d21c3a-4055-43e5-b221-5ccbf7ec4ac3",
   "metadata": {},
   "outputs": [
    {
     "data": {
      "text/plain": [
       "4.0"
      ]
     },
     "execution_count": 15,
     "metadata": {},
     "output_type": "execute_result"
    }
   ],
   "source": [
    "# Finding the area of a triangle\n",
    "base = 2\n",
    "height = 4\n",
    "(base * height) / 2"
   ]
  },
  {
   "cell_type": "code",
   "execution_count": 20,
   "id": "9d9e2ead-f4df-44cb-af63-655ed97b9d26",
   "metadata": {},
   "outputs": [],
   "source": [
    "# Escape character\n",
    "bookstore_name = 'Moe\\'s bookstore'"
   ]
  },
  {
   "cell_type": "code",
   "execution_count": 21,
   "id": "69f915ca-7a08-45de-b232-4b107298f875",
   "metadata": {},
   "outputs": [
    {
     "name": "stdout",
     "output_type": "stream",
     "text": [
      "hello\n"
     ]
    }
   ],
   "source": [
    "# Print variable\n",
    "greeting = 'hello'\n",
    "print(greeting)"
   ]
  },
  {
   "cell_type": "code",
   "execution_count": 22,
   "id": "a5748cd0-b585-4c2f-9a8e-0d28d76a5e88",
   "metadata": {},
   "outputs": [
    {
     "name": "stdout",
     "output_type": "stream",
     "text": [
      "Hola Eka\n"
     ]
    }
   ],
   "source": [
    "# String concat\n",
    "spanish_greeting = 'Hola'\n",
    "print(spanish_greeting + ' Eka')"
   ]
  },
  {
   "cell_type": "code",
   "execution_count": 23,
   "id": "32c9224e-28f3-4011-871b-3c45917b1547",
   "metadata": {},
   "outputs": [
    {
     "name": "stdout",
     "output_type": "stream",
     "text": [
      "HolaHolaHolaHolaHola\n"
     ]
    }
   ],
   "source": [
    "# Print 5 times the string\n",
    "print(spanish_greeting*5)"
   ]
  },
  {
   "cell_type": "code",
   "execution_count": 24,
   "id": "2d341989-8a0b-4704-b958-a9c0da3f6ad8",
   "metadata": {},
   "outputs": [
    {
     "name": "stdout",
     "output_type": "stream",
     "text": [
      "At age 22, Amanda Gorman became the youngest inaugural poet in US history.\n"
     ]
    }
   ],
   "source": [
    "# combine string with f-string\n",
    "poet = 'Amanda Gorman'\n",
    "age = 22\n",
    "combined_string = f'At age {age}, {poet} became the youngest inaugural poet in US history.'\n",
    "print(combined_string)"
   ]
  },
  {
   "cell_type": "code",
   "execution_count": 25,
   "id": "352408a8-4dc5-4a41-a2d1-1b3f6b245164",
   "metadata": {},
   "outputs": [
    {
     "data": {
      "text/plain": [
       "74"
      ]
     },
     "execution_count": 25,
     "metadata": {},
     "output_type": "execute_result"
    }
   ],
   "source": [
    "# Length of a string\n",
    "len(combined_string)"
   ]
  },
  {
   "cell_type": "code",
   "execution_count": 33,
   "id": "a3ced6bb-c834-4e64-84de-9a878432008a",
   "metadata": {},
   "outputs": [
    {
     "name": "stdout",
     "output_type": "stream",
     "text": [
      "At age 22, amanda gorman became the youngest inaugural poet in us history.\n",
      "AT AGE 22, AMANDA GORMAN BECAME THE YOUNGEST INAUGURAL POET IN US HISTORY.\n",
      "7\n"
     ]
    }
   ],
   "source": [
    "# String methods\n",
    "print(combined_string.capitalize())\n",
    "print(combined_string.upper())\n",
    "print(combined_string.count(\"a\"))"
   ]
  },
  {
   "cell_type": "code",
   "execution_count": 2,
   "id": "f8043240-c580-4946-beb9-d647704bdbea",
   "metadata": {},
   "outputs": [
    {
     "name": "stdin",
     "output_type": "stream",
     "text": [
      "What is your name? eka\n"
     ]
    },
    {
     "name": "stdout",
     "output_type": "stream",
     "text": [
      "Hello, eka.\n"
     ]
    }
   ],
   "source": [
    "name = input('What is your name?')\n",
    "print(f'Hello, {name}.')"
   ]
  },
  {
   "cell_type": "code",
   "execution_count": 5,
   "id": "f7ba29ad-f40e-41f6-aeca-250ebfaa97b4",
   "metadata": {},
   "outputs": [
    {
     "name": "stdout",
     "output_type": "stream",
     "text": [
      "r\n",
      "c\n"
     ]
    }
   ],
   "source": [
    "# Every character in a string is index (string is array of character)\n",
    "string_index = 'San Fransisco'\n",
    "print(string_index[5])\n",
    "# negative number in array means count from the last index\n",
    "print(string_index[-2])"
   ]
  },
  {
   "cell_type": "code",
   "execution_count": 6,
   "id": "2c8d782a-8365-4205-88d0-1584cc18d225",
   "metadata": {},
   "outputs": [
    {
     "name": "stdout",
     "output_type": "stream",
     "text": [
      "Fransis\n"
     ]
    }
   ],
   "source": [
    "# A slice is a subset of a string or other element\n",
    "# Start at index 4, end in index 11\n",
    "sliced_destination = string_index[4:11]\n",
    "print(sliced_destination)"
   ]
  },
  {
   "cell_type": "code",
   "execution_count": 7,
   "id": "afdb1bd6-be1e-439c-a50f-fb426afd2e0f",
   "metadata": {},
   "outputs": [
    {
     "data": {
      "text/plain": [
       "False"
      ]
     },
     "execution_count": 7,
     "metadata": {},
     "output_type": "execute_result"
    }
   ],
   "source": [
    "over_18, over_21 = True, False\n",
    "over_18 and over_21"
   ]
  },
  {
   "cell_type": "code",
   "execution_count": 8,
   "id": "bf33c98d-2431-4bb5-9f14-7d2f000757cb",
   "metadata": {},
   "outputs": [
    {
     "data": {
      "text/plain": [
       "True"
      ]
     },
     "execution_count": 8,
     "metadata": {},
     "output_type": "execute_result"
    }
   ],
   "source": [
    "over_18 or over_21"
   ]
  },
  {
   "cell_type": "code",
   "execution_count": 9,
   "id": "72268f08-825d-4d3d-8e68-363f5329f79c",
   "metadata": {},
   "outputs": [
    {
     "data": {
      "text/plain": [
       "False"
      ]
     },
     "execution_count": 9,
     "metadata": {},
     "output_type": "execute_result"
    }
   ],
   "source": [
    "not over_18"
   ]
  },
  {
   "cell_type": "code",
   "execution_count": 10,
   "id": "084bb0b9-5bab-4b5e-9237-9ad6a6c27ebd",
   "metadata": {},
   "outputs": [
    {
     "data": {
      "text/plain": [
       "True"
      ]
     },
     "execution_count": 10,
     "metadata": {},
     "output_type": "execute_result"
    }
   ],
   "source": [
    "not over_21 or (over_21 or over_18)"
   ]
  },
  {
   "cell_type": "code",
   "execution_count": 16,
   "id": "f8d75214-0367-467b-bea4-d67be51f606a",
   "metadata": {},
   "outputs": [
    {
     "name": "stdout",
     "output_type": "stream",
     "text": [
      "income < 75000:  False\n",
      "income >= 80000 and income <= 100000:  True\n",
      "income != 100000:  True\n",
      "income == 90000:  False\n",
      "6 == 6.0:  True\n"
     ]
    }
   ],
   "source": [
    "# COMPARISON\n",
    "income = 80000\n",
    "print('income < 75000: ', income < 75000)\n",
    "print('income >= 80000 and income <= 100000: ', income >= 80000 and income <= 100000)\n",
    "print('income != 100000: ', income != 100000)\n",
    "print('income == 90000: ', income == 90000)\n",
    "# Since 6 and 6.0 are equivalent mathematically, it makes sense that they would be equivalent in Python\n",
    "print('6 == 6.0: ', 6 == 6.0)"
   ]
  },
  {
   "cell_type": "code",
   "execution_count": 18,
   "id": "4f7aeb49-5b77-4259-a266-0d6c11a19c84",
   "metadata": {},
   "outputs": [
    {
     "name": "stdout",
     "output_type": "stream",
     "text": [
      "city_1 > city_2:  False\n"
     ]
    }
   ],
   "source": [
    "# when comparing two words, the word that comes later in the dictionary is considered greater than the word that comes before\n",
    "city_1 = 'New York'\n",
    "city_2 = 'San Fransisco'\n",
    "print('city_1 > city_2: ', city_1 > city_2)"
   ]
  },
  {
   "cell_type": "code",
   "execution_count": 26,
   "id": "debfe5b1-34e4-4a77-aa6d-aa29e46e47f5",
   "metadata": {},
   "outputs": [
    {
     "name": "stdout",
     "output_type": "stream",
     "text": [
      "You aren't old enough to vote\n"
     ]
    }
   ],
   "source": [
    "# IF - ELIF - ELSE\n",
    "my_age = 17\n",
    "if my_age <= 5:\n",
    "    print('You are a toddler')\n",
    "elif my_age < 18:\n",
    "    print('You aren\\'t old enough to vote')\n",
    "else:\n",
    "    print('You are ready to vote')\n",
    "    if my_age >= 21:\n",
    "        print('You can play poker too')\n",
    "    else:\n",
    "        print('You can\\'t play poker yet')"
   ]
  },
  {
   "cell_type": "code",
   "execution_count": 27,
   "id": "91e24a91-f08f-48fd-ab29-6684e930b620",
   "metadata": {},
   "outputs": [
    {
     "name": "stdout",
     "output_type": "stream",
     "text": [
      "1\n",
      "2\n",
      "3\n",
      "4\n",
      "5\n",
      "6\n",
      "7\n",
      "8\n",
      "9\n",
      "10\n"
     ]
    }
   ],
   "source": [
    "# LOOP\n",
    "i = 1\n",
    "while i <= 10:\n",
    "  print(i)\n",
    "  i += 1"
   ]
  },
  {
   "cell_type": "code",
   "execution_count": 28,
   "id": "2b10c3bb-ed44-4644-9eae-ae10c82437e5",
   "metadata": {},
   "outputs": [
    {
     "name": "stdout",
     "output_type": "stream",
     "text": [
      " 102 is the first number greater than 100 that is divisible by 17.\n"
     ]
    }
   ],
   "source": [
    "# Find the first number greater than 100 and divisible by 17\n",
    "x = 100\n",
    "while x >= 100:\n",
    "    x += 1\n",
    "    if x % 17 == 0:\n",
    "        print('', x, 'is the first number greater than 100 that is divisible by 17.')\n",
    "        break"
   ]
  },
  {
   "cell_type": "code",
   "execution_count": 29,
   "id": "bb070c37-00fd-4180-9e0e-7c115af6fe84",
   "metadata": {},
   "outputs": [
    {
     "name": "stdin",
     "output_type": "stream",
     "text": [
      "Enter a number to see if it's a perfect square or not 64\n"
     ]
    },
    {
     "name": "stdout",
     "output_type": "stream",
     "text": [
      "The square root of  64  is  8 .\n"
     ]
    }
   ],
   "source": [
    "number = input('Enter a number to see if it\\'s a perfect square or not')\n",
    "abs_number = abs(int(number))\n",
    "\n",
    "loop = -1\n",
    "is_square = False\n",
    "\n",
    "while loop <= abs_number:\n",
    "    loop += 1\n",
    "    if loop * loop == abs_number:\n",
    "        is_square = True\n",
    "        break\n",
    "\n",
    "if is_square:\n",
    "    print('The square root of ', abs_number, ' is ', loop, '.')\n",
    "else:\n",
    "    print(abs_number, ' is not a perfect square')"
   ]
  },
  {
   "cell_type": "code",
   "execution_count": null,
   "id": "821ee283-066a-4fa2-bff9-a8c766bced0f",
   "metadata": {},
   "outputs": [],
   "source": []
  }
 ],
 "metadata": {
  "kernelspec": {
   "display_name": "Python 3 (ipykernel)",
   "language": "python",
   "name": "python3"
  },
  "language_info": {
   "codemirror_mode": {
    "name": "ipython",
    "version": 3
   },
   "file_extension": ".py",
   "mimetype": "text/x-python",
   "name": "python",
   "nbconvert_exporter": "python",
   "pygments_lexer": "ipython3",
   "version": "3.11.7"
  }
 },
 "nbformat": 4,
 "nbformat_minor": 5
}
