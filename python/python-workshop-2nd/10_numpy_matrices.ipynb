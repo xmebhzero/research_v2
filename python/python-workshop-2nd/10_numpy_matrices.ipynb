{
 "cells": [
  {
   "cell_type": "code",
   "execution_count": 1,
   "metadata": {},
   "outputs": [],
   "source": [
    "import numpy as np"
   ]
  },
  {
   "cell_type": "code",
   "execution_count": 2,
   "metadata": {},
   "outputs": [
    {
     "name": "stdout",
     "output_type": "stream",
     "text": [
      "[[0.30087333 0.18694582 0.32318268 0.66574957 0.5669708 ]\n",
      " [0.39825396 0.37941492 0.01058154 0.1703656  0.12339337]\n",
      " [0.69240128 0.87444156 0.3373969  0.99245923 0.13154007]\n",
      " [0.50032984 0.28662051 0.22058485 0.50208555 0.63606254]\n",
      " [0.63567694 0.08043309 0.58143375 0.83919086 0.29301825]]\n",
      "1st row and 1st column = [0.30087333 0.18694582 0.32318268 0.66574957 0.5669708 ]\n",
      "1st column in all rows = [0.30087333 0.39825396 0.69240128 0.50032984 0.63567694]\n",
      "Mean of the matrix = 0.42917627159618377\n",
      "Mean of the 1st row = 0.4087444389228477\n"
     ]
    }
   ],
   "source": [
    "# seed(seed=60), you will get the same sequence of values\n",
    "np.random.seed(seed=60)\n",
    "random_matrix = np.random.rand(5,5)\n",
    "print(random_matrix)\n",
    "\n",
    "print(f\"1st row and 1st column = {random_matrix[0]}\")\n",
    "\n",
    "print(f\"1st column in all rows = {random_matrix[:,0]}\")\n",
    "\n",
    "random_matrix_mean = random_matrix.mean()\n",
    "print(f\"Mean of the matrix = {random_matrix_mean}\")\n",
    "\n",
    "first_row_random_matrix_mean = random_matrix[0].mean()\n",
    "print(f\"Mean of the 1st row = {first_row_random_matrix_mean}\")"
   ]
  },
  {
   "cell_type": "code",
   "execution_count": 3,
   "metadata": {},
   "outputs": [
    {
     "name": "stdout",
     "output_type": "stream",
     "text": [
      "CPU times: user 87.8 ms, sys: 40 ms, total: 128 ms\n",
      "Wall time: 127 ms\n"
     ]
    },
    {
     "data": {
      "text/plain": [
       "0.5001528493018508"
      ]
     },
     "execution_count": 3,
     "metadata": {},
     "output_type": "execute_result"
    }
   ],
   "source": [
    "%%time\n",
    "# how long it takes to generate a matrix with 10 million entries and compute the mean\n",
    "np.random.seed(seed=60)\n",
    "big_matrix = np.random.rand(100000, 100)\n",
    "big_matrix.mean()"
   ]
  },
  {
   "cell_type": "code",
   "execution_count": 6,
   "metadata": {},
   "outputs": [
    {
     "name": "stdout",
     "output_type": "stream",
     "text": [
      "# reshaped and subtracted by 50 = [[-49 -48 -47 -46 -45]\n",
      " [-44 -43 -42 -41 -40]\n",
      " [-39 -38 -37 -36 -35]\n",
      " [-34 -33 -32 -31 -30]\n",
      " [-29 -28 -27 -26 -25]\n",
      " [-24 -23 -22 -21 -20]\n",
      " [-19 -18 -17 -16 -15]\n",
      " [-14 -13 -12 -11 -10]\n",
      " [ -9  -8  -7  -6  -5]\n",
      " [ -4  -3  -2  -1   0]\n",
      " [  1   2   3   4   5]\n",
      " [  6   7   8   9  10]\n",
      " [ 11  12  13  14  15]\n",
      " [ 16  17  18  19  20]\n",
      " [ 21  22  23  24  25]\n",
      " [ 26  27  28  29  30]\n",
      " [ 31  32  33  34  35]\n",
      " [ 36  37  38  39  40]\n",
      " [ 41  42  43  44  45]\n",
      " [ 46  47  48  49  50]]\n",
      "# reshaped and multiplied by 10 = [[  10   20   30   40   50]\n",
      " [  60   70   80   90  100]\n",
      " [ 110  120  130  140  150]\n",
      " [ 160  170  180  190  200]\n",
      " [ 210  220  230  240  250]\n",
      " [ 260  270  280  290  300]\n",
      " [ 310  320  330  340  350]\n",
      " [ 360  370  380  390  400]\n",
      " [ 410  420  430  440  450]\n",
      " [ 460  470  480  490  500]\n",
      " [ 510  520  530  540  550]\n",
      " [ 560  570  580  590  600]\n",
      " [ 610  620  630  640  650]\n",
      " [ 660  670  680  690  700]\n",
      " [ 710  720  730  740  750]\n",
      " [ 760  770  780  790  800]\n",
      " [ 810  820  830  840  850]\n",
      " [ 860  870  880  890  900]\n",
      " [ 910  920  930  940  950]\n",
      " [ 960  970  980  990 1000]]\n"
     ]
    }
   ],
   "source": [
    "# create an ndarray containing all values between 1 to 100\n",
    "one_to_hundred = np.arange(1, 101)\n",
    "\n",
    "# Reshape the array to 20 rows and 5 columns\n",
    "oth_reshaped = one_to_hundred.reshape(20, 5)\n",
    "\n",
    "oth_reshaped_reduced = oth_reshaped - 50\n",
    "print(f\"# reshaped and subtracted by 50 = {oth_reshaped_reduced}\")\n",
    "\n",
    "oth_reshaped_multiplied = oth_reshaped * 10\n",
    "print(f\"# reshaped and multiplied by 10 = {oth_reshaped_multiplied}\")"
   ]
  }
 ],
 "metadata": {
  "kernelspec": {
   "display_name": "workshop_2nd",
   "language": "python",
   "name": "python3"
  },
  "language_info": {
   "codemirror_mode": {
    "name": "ipython",
    "version": 3
   },
   "file_extension": ".py",
   "mimetype": "text/x-python",
   "name": "python",
   "nbconvert_exporter": "python",
   "pygments_lexer": "ipython3",
   "version": "3.12.5"
  }
 },
 "nbformat": 4,
 "nbformat_minor": 2
}
