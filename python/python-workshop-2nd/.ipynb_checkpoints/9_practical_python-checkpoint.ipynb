{
 "cells": [
  {
   "cell_type": "code",
   "execution_count": null,
   "metadata": {},
   "outputs": [],
   "source": [
    "import execnet\n",
    "\n",
    "def square(channel):\n",
    "  while not channel.isclosed():\n",
    "    number = channel.receive()\n",
    "    number_squared = number**2\n",
    "    channel.send(number_squared)\n",
    "\n",
    "gateway = execnet.makegateway()\n",
    "channel = gateway.remote_exec(square)\n",
    "\n",
    "for i in range(10):\n",
    "  channel.send(i)\n",
    "  i_squared = channel.receive()\n",
    "  print(f\"{i} squared is {i_squared}\")\n",
    "\n",
    "gateway.exit()"
   ]
  }
 ],
 "metadata": {
  "kernelspec": {
   "display_name": "workshop_2nd",
   "language": "python",
   "name": "python3"
  },
  "language_info": {
   "name": "python",
   "version": "3.12.5"
  }
 },
 "nbformat": 4,
 "nbformat_minor": 2
}
