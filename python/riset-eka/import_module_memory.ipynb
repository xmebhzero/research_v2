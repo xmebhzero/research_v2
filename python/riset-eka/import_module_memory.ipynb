{
 "cells": [
  {
   "cell_type": "code",
   "execution_count": 8,
   "id": "97d49799",
   "metadata": {},
   "outputs": [
    {
     "name": "stdout",
     "output_type": "stream",
     "text": [
      "This is a test function without pandas.\n",
      "Filename: /home/xmebhzero/work/my-repo/research_v2/python/riset-eka/without_pandas.py\n",
      "\n",
      "Line #    Mem usage    Increment  Occurrences   Line Contents\n",
      "=============================================================\n",
      "     3    134.0 MiB    134.0 MiB           1   @profile\n",
      "     4                                         def test_without_pandas():\n",
      "     5    134.0 MiB      0.0 MiB           1       print(\"This is a test function without pandas.\")\n",
      "\n",
      "\n"
     ]
    }
   ],
   "source": [
    "from without_pandas import test_without_pandas\n",
    "\n",
    "test_without_pandas()"
   ]
  },
  {
   "cell_type": "code",
   "execution_count": 9,
   "id": "df1b1d83",
   "metadata": {},
   "outputs": [
    {
     "name": "stdout",
     "output_type": "stream",
     "text": [
      "This is a test function WITH pandas.\n",
      "Filename: /home/xmebhzero/work/my-repo/research_v2/python/riset-eka/with_pandas.py\n",
      "\n",
      "Line #    Mem usage    Increment  Occurrences   Line Contents\n",
      "=============================================================\n",
      "     5    134.0 MiB    134.0 MiB           1   @profile\n",
      "     6                                         def test_with_pandas():\n",
      "     7    134.0 MiB      0.0 MiB           1       print(\"This is a test function WITH pandas.\")\n",
      "\n",
      "\n"
     ]
    }
   ],
   "source": [
    "from with_pandas import test_with_pandas\n",
    "\n",
    "test_with_pandas()"
   ]
  },
  {
   "cell_type": "code",
   "execution_count": 10,
   "id": "e807e265",
   "metadata": {},
   "outputs": [
    {
     "name": "stdout",
     "output_type": "stream",
     "text": [
      "This is a test function WITH pandas.\n",
      "Filename: /home/xmebhzero/work/my-repo/research_v2/python/riset-eka/with_polars.py\n",
      "\n",
      "Line #    Mem usage    Increment  Occurrences   Line Contents\n",
      "=============================================================\n",
      "     5    134.0 MiB    134.0 MiB           1   @profile\n",
      "     6                                         def test_with_polars():\n",
      "     7    134.0 MiB      0.0 MiB           1       print(\"This is a test function WITH pandas.\")\n",
      "\n",
      "\n"
     ]
    }
   ],
   "source": [
    "from with_polars import test_with_polars\n",
    "\n",
    "test_with_polars()"
   ]
  }
 ],
 "metadata": {
  "kernelspec": {
   "display_name": ".venv",
   "language": "python",
   "name": "python3"
  },
  "language_info": {
   "codemirror_mode": {
    "name": "ipython",
    "version": 3
   },
   "file_extension": ".py",
   "mimetype": "text/x-python",
   "name": "python",
   "nbconvert_exporter": "python",
   "pygments_lexer": "ipython3",
   "version": "3.11.10"
  }
 },
 "nbformat": 4,
 "nbformat_minor": 5
}
