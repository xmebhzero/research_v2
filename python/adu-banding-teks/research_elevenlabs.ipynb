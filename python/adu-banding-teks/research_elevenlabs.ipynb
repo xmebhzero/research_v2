{
 "cells": [
  {
   "cell_type": "code",
   "execution_count": null,
   "id": "990fe2a4",
   "metadata": {},
   "outputs": [],
   "source": [
    "from pathlib import Path\n",
    "import re\n",
    "\n",
    "from whisper_normalizer.basic import BasicTextNormalizer"
   ]
  },
  {
   "cell_type": "code",
   "execution_count": null,
   "id": "4be988d8",
   "metadata": {},
   "outputs": [],
   "source": [
    "def read_file_clean_transcript(filepath):\n",
    "    \"\"\"\n",
    "    Reads a text file and removes timestamp and speaker labels from each line.\n",
    "    Example line: [00:02:03] Person 2: Sekarang saya bekerja di bidang travel consultant, tourism, industri seperti itu.\n",
    "    Returns only the transcript text.\n",
    "    \"\"\"\n",
    "    cleaned_lines = []\n",
    "    with open(filepath, 'r', encoding='utf-8') as f:\n",
    "        for line in f:\n",
    "            # Remove [timestamp] Person X: at the start of the line\n",
    "            cleaned = re.sub(r'^\\[\\d{2}:\\d{2}:\\d{2}\\]\\s+Person\\s+\\d+:\\s+', '', line)\n",
    "            cleaned_lines.append(cleaned)\n",
    "    return ''.join(cleaned_lines)\n",
    "\n",
    "normalizer = BasicTextNormalizer()"
   ]
  },
  {
   "cell_type": "code",
   "execution_count": null,
   "id": "6119ac3c",
   "metadata": {},
   "outputs": [],
   "source": [
    "MANUAL_PATRONUS = [\n",
    "    \"./manual-patronus/idi-5.txt\",\n",
    "    \"./manual-patronus/idi-2.txt\",\n",
    "]\n",
    "\n",
    "ELEVENLABS_PATRONUS = [\n",
    "    \"patronus-no-punctuation/elevenlabs-idi-5.txt\",\n",
    "    \"patronus-no-punctuation/elevenlabs-idi-2.txt\",\n",
    "]\n",
    "\n",
    "DEEPGRAM_PATRONUS = [\n",
    "    \"patronus-no-punctuation/deepgram-idi-5.txt\",\n",
    "    \"patronus-no-punctuation/deepgram-idi-2.txt\",\n",
    "]"
   ]
  }
 ],
 "metadata": {
  "kernelspec": {
   "display_name": "adu-banding-teks",
   "language": "python",
   "name": "python3"
  },
  "language_info": {
   "name": "python",
   "version": "3.12.3"
  }
 },
 "nbformat": 4,
 "nbformat_minor": 5
}
