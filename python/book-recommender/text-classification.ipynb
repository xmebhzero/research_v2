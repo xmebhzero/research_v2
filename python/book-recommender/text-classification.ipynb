{
 "cells": [
  {
   "cell_type": "code",
   "execution_count": null,
   "metadata": {},
   "outputs": [],
   "source": [
    "import pandas as pd\n",
    "\n",
    "books = pd.read_csv(\"books_cleaned.csv\")\n",
    "\n",
    "books[\"categories\"].value_counts().reset_index()"
   ]
  },
  {
   "cell_type": "code",
   "execution_count": null,
   "metadata": {},
   "outputs": [],
   "source": [
    "books[\"categories\"].value_counts().reset_index().query(\"count > 50\")"
   ]
  },
  {
   "cell_type": "code",
   "execution_count": null,
   "metadata": {},
   "outputs": [],
   "source": [
    "category_mapping = {'Fiction' : \"Fiction\",\n",
    " 'Juvenile Fiction': \"Children's Fiction\",\n",
    " 'Biography & Autobiography': \"Nonfiction\",\n",
    " 'History': \"Nonfiction\",\n",
    " 'Literary Criticism': \"Nonfiction\",\n",
    " 'Philosophy': \"Nonfiction\",\n",
    " 'Religion': \"Nonfiction\",\n",
    " 'Comics & Graphic Novels': \"Fiction\",\n",
    " 'Drama': \"Fiction\",\n",
    " 'Juvenile Nonfiction': \"Children's Nonfiction\",\n",
    " 'Science': \"Nonfiction\",\n",
    " 'Poetry': \"Fiction\"}\n",
    "\n",
    "books[\"simple_categories\"] = books[\"categories\"].map(category_mapping)\n",
    "\n",
    "books"
   ]
  },
  {
   "cell_type": "code",
   "execution_count": null,
   "metadata": {},
   "outputs": [],
   "source": [
    "books[~(books[\"simple_categories\"].isna())]"
   ]
  },
  {
   "cell_type": "code",
   "execution_count": null,
   "metadata": {},
   "outputs": [],
   "source": [
    "from transformers import pipeline\n",
    "\n",
    "fiction_categories = [\"Fiction\", \"Nonfiction\"]\n",
    "\n",
    "pipe = pipeline(\"zero-shot-classification\", model=\"facebook/bart-large-mnli\", device=\"mps\")\n",
    "\n",
    "sequence = books.loc[books[\"simple_categories\"] == \"Fiction\", \"description\"].reset_index(drop=True)[0]\n",
    "\n",
    "pipe(sequence, fiction_categories)"
   ]
  },
  {
   "cell_type": "code",
   "execution_count": null,
   "metadata": {},
   "outputs": [],
   "source": [
    "import numpy as np\n",
    "\n",
    "max_index = np.argmax(pipe(sequence, fiction_categories)[\"scores\"])\n",
    "max_label = pipe(sequence, fiction_categories)[\"labels\"][max_index]\n",
    "max_label"
   ]
  },
  {
   "cell_type": "code",
   "execution_count": null,
   "metadata": {},
   "outputs": [],
   "source": [
    "def generate_predictions(sequence, categories):\n",
    "    predictions = pipe(sequence, categories)\n",
    "    max_index = np.argmax(predictions[\"scores\"])\n",
    "    max_label = predictions[\"labels\"][max_index]\n",
    "    return max_label"
   ]
  },
  {
   "cell_type": "code",
   "execution_count": null,
   "metadata": {},
   "outputs": [],
   "source": [
    "from tqdm import tqdm\n",
    "\n",
    "actual_cats = []\n",
    "predicted_cats = []\n",
    "\n",
    "for i in tqdm(range(0, 300)):\n",
    "    sequence = books.loc[books[\"simple_categories\"] == \"Fiction\", \"description\"].reset_index(drop=True)[i]\n",
    "    predicted_cats += [generate_predictions(sequence, fiction_categories)]\n",
    "    actual_cats += [\"Fiction\"]"
   ]
  },
  {
   "cell_type": "code",
   "execution_count": null,
   "metadata": {},
   "outputs": [],
   "source": [
    "for i in tqdm(range(0, 300)):\n",
    "    sequence = books.loc[books[\"simple_categories\"] == \"Nonfiction\", \"description\"].reset_index(drop=True)[i]\n",
    "    predicted_cats += [generate_predictions(sequence, fiction_categories)]\n",
    "    actual_cats += [\"Nonfiction\"]"
   ]
  },
  {
   "cell_type": "code",
   "execution_count": null,
   "metadata": {},
   "outputs": [],
   "source": [
    "predictions_df = pd.DataFrame({\"actual_categories\": actual_cats, \"predicted_categories\": predicted_cats})\n",
    "\n",
    "predictions_df"
   ]
  },
  {
   "cell_type": "code",
   "execution_count": null,
   "metadata": {},
   "outputs": [],
   "source": [
    "predictions_df[\"correct_prediction\"] = (\n",
    "    np.where(predictions_df[\"actual_categories\"] == predictions_df[\"predicted_categories\"], 1, 0)\n",
    ")\n",
    "\n",
    "predictions_df[\"correct_prediction\"].sum() / len(predictions_df)"
   ]
  },
  {
   "cell_type": "code",
   "execution_count": null,
   "metadata": {},
   "outputs": [],
   "source": [
    "isbns = []\n",
    "predicted_cats = []\n",
    "\n",
    "missing_cats = books.loc[books[\"simple_categories\"].isna(), [\"isbn13\", \"description\"]].reset_index(drop=True)"
   ]
  },
  {
   "cell_type": "code",
   "execution_count": null,
   "metadata": {},
   "outputs": [],
   "source": [
    "for i in tqdm(range(0, len(missing_cats))):\n",
    "    sequence = missing_cats[\"description\"][i]\n",
    "    predicted_cats += [generate_predictions(sequence, fiction_categories)]\n",
    "    isbns += [missing_cats[\"isbn13\"][i]]"
   ]
  },
  {
   "cell_type": "code",
   "execution_count": null,
   "metadata": {},
   "outputs": [],
   "source": [
    "missing_predicted_df = pd.DataFrame({\"isbn13\": isbns, \"predicted_categories\": predicted_cats})\n",
    "\n",
    "missing_predicted_df"
   ]
  },
  {
   "cell_type": "code",
   "execution_count": null,
   "metadata": {},
   "outputs": [],
   "source": [
    "books = pd.merge(books, missing_predicted_df, on=\"isbn13\", how=\"left\")\n",
    "books[\"simple_categories\"] = np.where(books[\"simple_categories\"].isna(), books[\"predicted_categories\"], books[\"simple_categories\"])\n",
    "books = books.drop(columns = [\"predicted_categories\"])\n",
    "\n",
    "books"
   ]
  },
  {
   "cell_type": "code",
   "execution_count": null,
   "metadata": {},
   "outputs": [],
   "source": [
    "books[books[\"categories\"].str.lower().isin([\n",
    "    \"romance\",\n",
    "    \"science fiction\",\n",
    "    \"scifi\",\n",
    "    \"fantasy\",\n",
    "    \"horror\",\n",
    "    \"mystery\",\n",
    "    \"thriller\",\n",
    "    \"comedy\",\n",
    "    \"crime\",\n",
    "    \"historical\"\n",
    "])]"
   ]
  },
  {
   "cell_type": "code",
   "execution_count": null,
   "metadata": {},
   "outputs": [],
   "source": [
    "books.to_csv(\"books_with_categories.csv\", index=False)"
   ]
  }
 ],
 "metadata": {
  "kernelspec": {
   "display_name": "populix-ai-3.11",
   "language": "python",
   "name": "python3"
  },
  "language_info": {
   "codemirror_mode": {
    "name": "ipython",
    "version": 3
   },
   "file_extension": ".py",
   "mimetype": "text/x-python",
   "name": "python",
   "nbconvert_exporter": "python",
   "pygments_lexer": "ipython3",
   "version": "3.11.10"
  }
 },
 "nbformat": 4,
 "nbformat_minor": 2
}
